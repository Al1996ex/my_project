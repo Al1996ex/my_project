{
  "nbformat": 4,
  "nbformat_minor": 0,
  "metadata": {
    "colab": {
      "provenance": [],
      "authorship_tag": "ABX9TyO+Z2Di2DtWGK6SfQpVZ63p",
      "include_colab_link": true
    },
    "kernelspec": {
      "name": "python3",
      "display_name": "Python 3"
    },
    "language_info": {
      "name": "python"
    }
  },
  "cells": [
    {
      "cell_type": "markdown",
      "metadata": {
        "id": "view-in-github",
        "colab_type": "text"
      },
      "source": [
        "<a href=\"https://colab.research.google.com/github/Al1996ex/my_project/blob/main/untitled2.ipynb\" target=\"_parent\"><img src=\"https://colab.research.google.com/assets/colab-badge.svg\" alt=\"Open In Colab\"/></a>"
      ]
    },
    {
      "cell_type": "code",
      "execution_count": null,
      "metadata": {
        "id": "NXtWwlLzL422"
      },
      "outputs": [],
      "source": []
    },
    {
      "cell_type": "code",
      "source": [
        "print(\"Witam w początkach kodu.\")\n",
        "print(\"Zmiany na wersję nr.2\")"
      ],
      "metadata": {
        "id": "1P3EvCnrQ2w_",
        "colab": {
          "base_uri": "https://localhost:8080/"
        },
        "outputId": "3ccba664-e87b-4729-8ac6-228fdf522d14"
      },
      "execution_count": null,
      "outputs": [
        {
          "output_type": "stream",
          "name": "stdout",
          "text": [
            "Witam w początkach kodu.\n",
            "Zmiany na wersję nr.2\n"
          ]
        }
      ]
    }
  ]
}
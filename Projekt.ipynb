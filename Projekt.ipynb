{
  "nbformat": 4,
  "nbformat_minor": 0,
  "metadata": {
    "colab": {
      "provenance": [],
      "name": "Projekt.ipynb",
      "authorship_tag": "ABX9TyMIPmmeEDEdgIqpwP5wkOGO",
      "include_colab_link": true
    },
    "kernelspec": {
      "name": "python3",
      "display_name": "Python 3"
    },
    "language_info": {
      "name": "python"
    }
  },
  "cells": [
    {
      "cell_type": "markdown",
      "metadata": {
        "id": "view-in-github",
        "colab_type": "text"
      },
      "source": [
        "<a href=\"https://colab.research.google.com/github/Al1996ex/my_project/blob/main/Projekt.ipynb\" target=\"_parent\"><img src=\"https://colab.research.google.com/assets/colab-badge.svg\" alt=\"Open In Colab\"/></a>"
      ]
    },
    {
      "cell_type": "code",
      "execution_count": 16,
      "metadata": {
        "id": "NXtWwlLzL422",
        "colab": {
          "base_uri": "https://localhost:8080/"
        },
        "outputId": "19fe70e4-d54b-49ed-98d4-2d45723cbc41"
      },
      "outputs": [
        {
          "output_type": "stream",
          "name": "stdout",
          "text": [
            "Podaj tekst lub wpisz 'exit', aby zakończyć: exit\n",
            "Wprowadzony tekst:\n"
          ]
        }
      ],
      "source": [
        "text_entries = []\n",
        "\n",
        "while True:\n",
        "    text = input(\"Podaj tekst lub wpisz 'exit', aby zakończyć: \")\n",
        "    if text == \"exit\":\n",
        "        break\n",
        "    text_entries.append(text)\n",
        "\n",
        "print(\"Wprowadzony tekst:\")\n",
        "for text in text_entries:\n",
        "    print(text)"
      ]
    },
    {
      "cell_type": "code",
      "source": [
        "import random\n",
        "\n",
        "results = []\n",
        "\n",
        "for i in range(5):\n",
        "    result = random.randint(0, 100)\n",
        "    results.append(result)\n",
        "\n",
        "print(\"Wylosowane wyniki:\")\n",
        "for result in results:\n",
        "    print(result)\n"
      ],
      "metadata": {
        "id": "1P3EvCnrQ2w_",
        "colab": {
          "base_uri": "https://localhost:8080/"
        },
        "outputId": "3f5d357f-06e7-4bc0-a3cb-e98330c11a56"
      },
      "execution_count": 20,
      "outputs": [
        {
          "output_type": "stream",
          "name": "stdout",
          "text": [
            "Wylosowane wyniki:\n",
            "48\n",
            "57\n",
            "89\n",
            "6\n",
            "73\n"
          ]
        }
      ]
    }
  ]
}
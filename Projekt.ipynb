{
  "nbformat": 4,
  "nbformat_minor": 0,
  "metadata": {
    "colab": {
      "provenance": [],
      "name": "Projekt.ipynb",
      "authorship_tag": "ABX9TyN251sm072PG4hXi2ofX81q",
      "include_colab_link": true
    },
    "kernelspec": {
      "name": "python3",
      "display_name": "Python 3"
    },
    "language_info": {
      "name": "python"
    }
  },
  "cells": [
    {
      "cell_type": "markdown",
      "metadata": {
        "id": "view-in-github",
        "colab_type": "text"
      },
      "source": [
        "<a href=\"https://colab.research.google.com/github/Al1996ex/my_project/blob/main/Projekt.ipynb\" target=\"_parent\"><img src=\"https://colab.research.google.com/assets/colab-badge.svg\" alt=\"Open In Colab\"/></a>"
      ]
    },
    {
      "cell_type": "code",
      "execution_count": null,
      "metadata": {
        "id": "NXtWwlLzL422",
        "colab": {
          "base_uri": "https://localhost:8080/"
        },
        "outputId": "eff4d7be-455d-4294-c6f0-ab6143bf9843"
      },
      "outputs": [
        {
          "output_type": "stream",
          "name": "stdout",
          "text": [
            "Zmiany na wersję nr. 3\n",
            "Zmiany na wersję nr. 3\n"
          ]
        }
      ],
      "source": [
        "print(\"Zmiany na wersję nr. 3\")\n",
        "print(\"Zmiany na wersję nr. 3\")"
      ]
    },
    {
      "cell_type": "code",
      "source": [
        "print(\"Witam w początkach kodu.\")\n",
        "print(\"Zmiany na wersję nr.2\")"
      ],
      "metadata": {
        "id": "1P3EvCnrQ2w_",
        "colab": {
          "base_uri": "https://localhost:8080/"
        },
        "outputId": "d89f2c24-4d18-48e7-c14f-5b3dbddede5e"
      },
      "execution_count": null,
      "outputs": [
        {
          "output_type": "stream",
          "name": "stdout",
          "text": [
            "Witam w początkach kodu.\n",
            "Zmiany na wersję nr.2\n"
          ]
        }
      ]
    }
  ]
}